{
 "cells": [
  {
   "cell_type": "markdown",
   "metadata": {},
   "source": [
    "# Requirements"
   ]
  },
  {
   "cell_type": "code",
   "execution_count": 1,
   "metadata": {},
   "outputs": [
    {
     "name": "stdout",
     "output_type": "stream",
     "text": [
      "0.15.2\n"
     ]
    }
   ],
   "source": [
    "import tokenizers\n",
    "\n",
    "print(tokenizers.__version__)\n"
   ]
  },
  {
   "cell_type": "code",
   "execution_count": 2,
   "metadata": {},
   "outputs": [
    {
     "name": "stdout",
     "output_type": "stream",
     "text": [
      "4.38.2\n"
     ]
    }
   ],
   "source": [
    "import transformers\n",
    "print(transformers.__version__)\n"
   ]
  },
  {
   "cell_type": "code",
   "execution_count": 3,
   "metadata": {},
   "outputs": [],
   "source": [
    "from transformers import AutoModel, AutoTokenizer, BertTokenizerFast,BertForTokenClassification, BertForMaskedLM, BertForNextSentencePrediction, pipeline\n",
    "from pprint import pprint "
   ]
  },
  {
   "cell_type": "code",
   "execution_count": 4,
   "metadata": {},
   "outputs": [],
   "source": [
    "tokenizer_matsci = AutoTokenizer.from_pretrained('m3rg-iitd/matscibert', do_lower_case=False)\n",
    "tokenizer_bert = BertTokenizerFast.from_pretrained('bert-base-cased', do_lower_case=False)\n",
    "tokenizer_mat = BertTokenizerFast.from_pretrained('./models/matbert-base-cased', do_lower_case=False)"
   ]
  },
  {
   "cell_type": "code",
   "execution_count": 5,
   "metadata": {},
   "outputs": [
    {
     "name": "stderr",
     "output_type": "stream",
     "text": [
      "Some weights of BertModel were not initialized from the model checkpoint at m3rg-iitd/matscibert and are newly initialized: ['bert.pooler.dense.bias', 'bert.pooler.dense.weight']\n",
      "You should probably TRAIN this model on a down-stream task to be able to use it for predictions and inference.\n",
      "Some weights of the model checkpoint at bert-base-uncased were not used when initializing BertForMaskedLM: ['bert.pooler.dense.bias', 'bert.pooler.dense.weight', 'cls.seq_relationship.bias', 'cls.seq_relationship.weight']\n",
      "- This IS expected if you are initializing BertForMaskedLM from the checkpoint of a model trained on another task or with another architecture (e.g. initializing a BertForSequenceClassification model from a BertForPreTraining model).\n",
      "- This IS NOT expected if you are initializing BertForMaskedLM from the checkpoint of a model that you expect to be exactly identical (initializing a BertForSequenceClassification model from a BertForSequenceClassification model).\n",
      "Some weights of BertForNextSentencePrediction were not initialized from the model checkpoint at ./models/matbert-base-cased and are newly initialized: ['bert.pooler.dense.bias', 'bert.pooler.dense.weight', 'cls.seq_relationship.bias', 'cls.seq_relationship.weight']\n",
      "You should probably TRAIN this model on a down-stream task to be able to use it for predictions and inference.\n",
      "Some weights of BertForTokenClassification were not initialized from the model checkpoint at m3rg-iitd/matscibert and are newly initialized: ['classifier.bias', 'classifier.weight']\n",
      "You should probably TRAIN this model on a down-stream task to be able to use it for predictions and inference.\n"
     ]
    }
   ],
   "source": [
    "\"\"\"\n",
    "model_mask : BertForMaskedLM for matcibert\n",
    "model_ns : BertForNextSentencePrediction for matbert\n",
    "model_tc : BertForTokenClassification for matcibert\n",
    "The AutoModel class converts the token encodings to embeddings, and then feeds them through the encoder stack to return the hidden states\n",
    "\"\"\"\n",
    "#device = torch.device(\"cuda\" if torch.cuda.is_available() else \"cpu\") #Run on the GPU\n",
    "model = AutoModel.from_pretrained('m3rg-iitd/matscibert')\n",
    "model_mask_bert = BertForMaskedLM.from_pretrained('bert-base-uncased')\n",
    "model_mask_matsc = BertForMaskedLM.from_pretrained('m3rg-iitd/matscibert')\n",
    "model_mask_mat = BertForMaskedLM.from_pretrained('./models/matbert-base-cased')\n",
    "model_mask_bert_uncased = BertForMaskedLM.from_pretrained('./models/matbert-base-uncased')\n",
    "model_ns = BertForNextSentencePrediction.from_pretrained('./models/matbert-base-cased')\n",
    "model_tc = BertForTokenClassification.from_pretrained(\"m3rg-iitd/matscibert\")"
   ]
  },
  {
   "cell_type": "markdown",
   "metadata": {},
   "source": [
    "# Data extraction"
   ]
  },
  {
   "cell_type": "code",
   "execution_count": 6,
   "metadata": {},
   "outputs": [],
   "source": [
    "import pandas as pd\n",
    "\n",
    "file_2 = './bow.xlsx'\n",
    "\n",
    "df = pd.read_excel(file_2, sheet_name='Ingr')\n",
    "df_pro = pd.read_excel(file_2, sheet_name='Prop')\n",
    "df_pro['Material property'] = df_pro['Material property'].str.lower()\t\n",
    "df['Component'] = df['Component'].str.lower()\n",
    "\n",
    "\n",
    "organic_compounds_df = df[df['Master Class'] == 'Organic compounds']\n",
    "polysaccharides_df = df[df['Master Class'] == 'Polysaccharides']\n",
    "inorganic_compounds_df = df[df['Master Class'] == 'Inorganic compounds']\n",
    "plasticizer_df = df[df['Master Class'] == 'Plasticizer/Crosslinking agent']\n",
    "\n",
    "\n",
    "\n",
    "filtered_organic_compounds_df = organic_compounds_df[['Component']].drop_duplicates()\n",
    "filtered_polysaccharides_df = polysaccharides_df[['Component']].drop_duplicates()\n",
    "filtered_inorganic_compounds_df = inorganic_compounds_df[['Component']].drop_duplicates()\n",
    "property_df = df_pro[['Material property']].drop_duplicates()\n",
    "filtered_plasticizer_df = plasticizer_df[['Component']].drop_duplicates()\n",
    "combined_df = pd.concat([filtered_organic_compounds_df, filtered_inorganic_compounds_df], axis=0)\n",
    "\n",
    "\n"
   ]
  },
  {
   "cell_type": "markdown",
   "metadata": {},
   "source": [
    "# Sentences experiments"
   ]
  },
  {
   "cell_type": "code",
   "execution_count": 7,
   "metadata": {},
   "outputs": [
    {
     "name": "stdout",
     "output_type": "stream",
     "text": [
      "Token mechanical:\t0.617%\n",
      "Token barrier:\t0.129%\n",
      "Token film:\t0.027%\n",
      "Token physical:\t0.024%\n",
      "Token tensile:\t0.020%\n",
      "Token adhesion:\t0.011%\n",
      "Token adhesive:\t0.010%\n",
      "Token antimicrobial:\t0.008%\n"
     ]
    }
   ],
   "source": [
    "pipe = pipeline('fill-mask', model=\"./models/matbert-base-cased\", top_k=8, tokenizer=tokenizer_mat)\n",
    "\n",
    "description = \"the first film generated by mixtures of agar biopolymer, glycerol plasticizer and water\"\n",
    "prompt = \"the tested product showed poor [MASK] properties\"\n",
    "output = pipe(description + prompt)\n",
    "for element in output:\n",
    " print(f\"Token {element['token_str']}:\\t{element['score']:.3f}%\")"
   ]
  },
  {
   "cell_type": "code",
   "execution_count": 9,
   "metadata": {},
   "outputs": [
    {
     "data": {
      "image/png": "[encoded data removed]",
      "text/plain": [
       "<Figure size 300x300 with 1 Axes>"
      ]
     },
     "metadata": {},
     "output_type": "display_data"
    }
   ],
   "source": [
    "\"\"\"\n",
    "Visualization of different prompt distribution scores\n",
    "\n",
    "\"\"\"\n",
    "import matplotlib.pyplot as plt\n",
    "pipe = pipeline('fill-mask', model=model_mask_mat, tokenizer=tokenizer_mat, top_k=100)\n",
    "\n",
    "\n",
    "\n",
    "prompt_A=\"The membranes made with galactoglucomannan and tripolyphosphate. By adding of barbatimao microcapsules cd , [MASK] in their water vapor permeability \"\n",
    "prompt_B=\"The film generated by mixtures galactoglucomannan and xylitol. By adding of barbatimao microcapsules cd, [MASK] in their water vapor permeability\"\n",
    "prompt_C=\"The films demonstrated that adding lysozyme, the rice with ethylene glycol present [MASK] water vapor permeability\"\n",
    "prompt_D=\"The membranes demonstrated that adding chitin additive, the rice with sorbital present [MASK] water vapor permeability\"\n",
    "\n",
    "\n",
    "output = pipe(prompt_A)\n",
    "output = output[:10]\n",
    "\n",
    "token_str_all = [element['token_str'] for element in output]\n",
    "scores_all = [element['score'] for element in output]\n",
    "\n",
    "\n",
    "\n",
    "top_20_indices = sorted(range(len(scores_all)), key=lambda k: scores_all[k], reverse=True)[:20]\n",
    "token_str_top_20 = [token_str_all[i] for i in top_20_indices]\n",
    "scores_top_20 = [scores_all[i] for i in top_20_indices]\n",
    "\n",
    "\n",
    "plt.figure(figsize=(3, 3))\n",
    "cmap = plt.get_cmap('Blues_r')\n",
    "colors = [cmap(i) for i in range(len(scores_top_20))]\n",
    "\n",
    "plt.bar(token_str_top_20, scores_top_20, color=colors, width=0.3)  \n",
    "plt.xlabel('Token') \n",
    "plt.ylabel('Score')  \n",
    "plt.grid(axis='y', linestyle='--', alpha=0.6)  \n",
    "\n",
    "\n",
    "plt.xticks(rotation=45, ha='right')\n",
    "plt.tight_layout()"
   ]
  },
  {
   "cell_type": "markdown",
   "metadata": {},
   "source": [
    "# Use of ingredient combinations"
   ]
  },
  {
   "cell_type": "code",
   "execution_count": null,
   "metadata": {},
   "outputs": [
    {
     "name": "stdout",
     "output_type": "stream",
     "text": [
      "            Master Class                               Class  \\\n",
      "0      Organic compounds                   Organic compounds   \n",
      "1      Organic compounds                   Organic compounds   \n",
      "2      Organic compounds                   Organic compounds   \n",
      "3      Organic compounds                   Organic compounds   \n",
      "4      Organic compounds            Organic compounds - acid   \n",
      "..                   ...                                 ...   \n",
      "349              Protein                             Protein   \n",
      "350  Inorganic compounds                      Minerals salts   \n",
      "351  Inorganic compounds                      Minerals salts   \n",
      "352    Organic compounds  Organic compounds - Essencial Oils   \n",
      "353    Organic compounds                   Organic compounds   \n",
      "\n",
      "                    Component                   Variant Abbreviation/Other  \\\n",
      "0               acacia lignin             Acacia lignin                NaN   \n",
      "1                        acai                      Acai                NaN   \n",
      "2              acca sellowian            Acca sellowian                NaN   \n",
      "3                     acerola                   Acerola                NaN   \n",
      "4                 acetic acid               Acetic acid                NaN   \n",
      "..                        ...                       ...                ...   \n",
      "349                      zein                      Zein                NaN   \n",
      "350                      zinc                      Zinc                 Zn   \n",
      "351                      zinc                Zinc oxide              ZnONP   \n",
      "352  ziziphora clinopodioides  Ziziphora Clinopodioides                NaN   \n",
      "353                  zucchini                  Zucchini     Curcubita Pepo   \n",
      "\n",
      "    Unnamed: 5    higher      high      good  excellent      best       low  \\\n",
      "0          NaN  0.305491  0.040829  0.007764   0.002105  0.000650  0.009298   \n",
      "1          NaN  0.346041  0.039231  0.005286   0.001254  0.000528  0.000174   \n",
      "2          NaN  0.322031  0.048959  0.006098   0.001420  0.000798  0.000193   \n",
      "3          NaN  0.337380  0.046988  0.004885   0.001136  0.000613  0.000164   \n",
      "4          NaN  0.342817  0.048295  0.006445   0.001547  0.000777  0.000154   \n",
      "..         ...       ...       ...       ...        ...       ...       ...   \n",
      "349        NaN  0.344272  0.040395  0.004704   0.001115  0.000521  0.000171   \n",
      "350        NaN  0.321434  0.043115  0.005844   0.001380  0.000616  0.000190   \n",
      "351        NaN  0.321434  0.043115  0.005844   0.001380  0.000616  0.000190   \n",
      "352        NaN  0.283169  0.038876  0.005061   0.001270  0.000445  0.009777   \n",
      "353        NaN  0.344768  0.044478  0.004764   0.001172  0.000578  0.000163   \n",
      "\n",
      "         weak      poor  \n",
      "0    0.000192  0.002748  \n",
      "1    0.000208  0.002157  \n",
      "2    0.000000  0.000000  \n",
      "3    0.000236  0.002156  \n",
      "4    0.000208  0.002551  \n",
      "..        ...       ...  \n",
      "349  0.000198  0.001970  \n",
      "350  0.000163  0.002248  \n",
      "351  0.000163  0.002248  \n",
      "352  0.000289  0.001921  \n",
      "353  0.000272  0.002184  \n",
      "\n",
      "[354 rows x 14 columns]\n"
     ]
    }
   ],
   "source": [
    "\n",
    "prompts = []\n",
    "description = \"the film generated by mixtures of {alginato} and {Component}\"\n",
    "prompt = \" showed [MASK] elongation at break\"\n",
    "\n",
    "\n",
    "for _, row in df.iterrows():\n",
    "    component = row['Component']\n",
    "    prompt_f = description.format(alginato='alginato', Component=component) + prompt\n",
    "    prompts.append(prompt_f)\n",
    "\n",
    "pipe = pipeline('fill-mask', model=model_mask_mat, tokenizer=tokenizer_mat, top_k=100)\n",
    "\n",
    "\n",
    "results = [pipe(p) for p in prompts]\n",
    "\n",
    "probabilities = []\n",
    "target_words = [\"higher\", \"high\", \"good\", \"excellent\", \"best\", \"low\", \"weak\", \"poor\"]\n",
    "\n",
    "for result in results:\n",
    "    prompt_probabilities = {word: 0.0 for word in target_words}\n",
    "    for suggestion in result:\n",
    "        sequence = suggestion['sequence'].lower()\n",
    "        for word in target_words:\n",
    "            if word in sequence:\n",
    "                prompt_probabilities[word] = suggestion['score']\n",
    "                break\n",
    "    probabilities.append(prompt_probabilities)\n",
    "\n",
    "\n",
    "probabilities_df = pd.DataFrame(probabilities, columns=target_words)\n",
    "\n",
    "df = pd.concat([df, probabilities_df], axis=1)\n",
    "\n",
    "\n",
    "print(df)\n"
   ]
  },
  {
   "cell_type": "code",
   "execution_count": null,
   "metadata": {},
   "outputs": [
    {
     "name": "stderr",
     "output_type": "stream",
     "text": [
      "C:\\Users\\fveli\\AppData\\Local\\Temp\\ipykernel_19052\\1109447323.py:25: FutureWarning: Setting an item of incompatible dtype is deprecated and will raise an error in a future version of pandas. Value '0.46004632115364075' has dtype incompatible with int64, please explicitly cast to a compatible dtype first.\n",
      "  correlation_matrix.loc[component1, component2] = score\n",
      "C:\\Users\\fveli\\AppData\\Local\\Temp\\ipykernel_19052\\1109447323.py:25: FutureWarning: Setting an item of incompatible dtype is deprecated and will raise an error in a future version of pandas. Value '0.43141984939575195' has dtype incompatible with int64, please explicitly cast to a compatible dtype first.\n",
      "  correlation_matrix.loc[component1, component2] = score\n",
      "C:\\Users\\fveli\\AppData\\Local\\Temp\\ipykernel_19052\\1109447323.py:25: FutureWarning: Setting an item of incompatible dtype is deprecated and will raise an error in a future version of pandas. Value '0.4069589674472809' has dtype incompatible with int64, please explicitly cast to a compatible dtype first.\n",
      "  correlation_matrix.loc[component1, component2] = score\n",
      "C:\\Users\\fveli\\AppData\\Local\\Temp\\ipykernel_19052\\1109447323.py:25: FutureWarning: Setting an item of incompatible dtype is deprecated and will raise an error in a future version of pandas. Value '0.444282591342926' has dtype incompatible with int64, please explicitly cast to a compatible dtype first.\n",
      "  correlation_matrix.loc[component1, component2] = score\n",
      "C:\\Users\\fveli\\AppData\\Local\\Temp\\ipykernel_19052\\1109447323.py:25: FutureWarning: Setting an item of incompatible dtype is deprecated and will raise an error in a future version of pandas. Value '0.4389025866985321' has dtype incompatible with int64, please explicitly cast to a compatible dtype first.\n",
      "  correlation_matrix.loc[component1, component2] = score\n"
     ]
    },
    {
     "data": {
      "image/png": "[encoded data removed]",
      "text/plain": [
       "<Figure size 800x800 with 2 Axes>"
      ]
     },
     "metadata": {},
     "output_type": "display_data"
    }
   ],
   "source": [
    "\n",
    "pipe = pipeline('fill-mask', model=model_mask_mat, tokenizer=tokenizer_mat)\n",
    "\n",
    "prompt_template = \"The membranes made with {Component1} and glycerol. By adding of {Component2}, [MASK] in their water vapor permeability.\"\n",
    "\n",
    "component_list = combined_df['Component'].tolist()[:5]\n",
    "polysaccharide_component_list = filtered_polysaccharides_df['Component'].tolist()[:5]\n",
    "\n",
    "correlation_matrix = pd.DataFrame(0, index=polysaccharide_component_list,columns=component_list, )\n",
    "\n",
    "\n",
    "for i, component1 in enumerate(polysaccharide_component_list):\n",
    "    for j, component2 in enumerate(component_list):\n",
    "        prompt = prompt_template.format(Component1=component1, Component2=component2)\n",
    "        output = pipe(prompt)\n",
    "        score = 0.3\n",
    "        for element in output:\n",
    "            if element['token_str'] == 'increase':\n",
    "                score = element['score']\n",
    "                break\n",
    "        \n",
    "\n",
    "        correlation_matrix.loc[component1, component2] = score\n",
    "\n",
    "\n",
    "plt.figure(figsize=(8, 8))\n",
    "# sns.heatmap(correlation_matrix, annot=True, cmap='BuPu', center=0.5, fmt=\".2f\")\n",
    "sns.heatmap(correlation_matrix,\n",
    "            annot=False, cmap=\"BuGn\", fmt=\".6f\", linewidths=0.9, cbar_kws={'label': 'Probability'}, vmin=0.3, vmax=0.45)\n",
    "plt.xlabel(\"Additives\")\n",
    "plt.ylabel(\"Polysacharides\")\n",
    "plt.show()"
   ]
  },
  {
   "cell_type": "code",
   "execution_count": null,
   "metadata": {},
   "outputs": [],
   "source": [
    "\"\"\"\n",
    "Combinations of three components\n",
    "\"\"\"\n",
    "pipe = pipeline('fill-mask', model=model_mask_mat, tokenizer=tokenizer_mat, top_k=1, device=\"cuda:0\", batch_size=100 )\n",
    "\n",
    "prompt_template= \"The membranes made with {Component1} and {Component3}. By adding of {Component2}, [MASK] in their water vapor permeability.\"\n",
    "\n",
    "\n",
    "polysaccharide_component_list = filtered_polysaccharides_df['Component'].tolist()\n",
    "organic_component_list = filtered_organic_compounds_df['Component'].tolist()\n",
    "plastic_component_list = filtered_plasticizer_df['Component'].tolist()\n",
    "\n",
    "high_probability_mask_words = []\n",
    "\n",
    "\n",
    "batch_size = 100\n",
    "component_combinations = list(product(polysaccharide_component_list, organic_component_list, plastic_component_list))\n",
    "num_batches = len(component_combinations) // batch_size\n",
    "\n",
    "set_seed(42)  \n",
    "\n",
    "for i in range(num_batches + 1):\n",
    "    batch = component_combinations[i * batch_size: (i + 1) * batch_size]\n",
    "    batch_prompts = [prompt_template.format(Component1=c1, Component2=c2, Component3=c3) for c1, c2, c3 in batch]\n",
    "    results = pipe(batch_prompts)\n",
    "\n",
    "    for (component1, component2, component3), output in zip(batch, results):\n",
    "        for element in output:\n",
    "            if element['score'] > 0.3:\n",
    "                high_probability_mask_words.append((component1, component2, component3, element['token_str'], element['score']))\n",
    "\n",
    "\n",
    "result_df = pd.DataFrame(high_probability_mask_words, columns=[\"Component1\", \"Component2\", \"Component3\", \"Mask Word\", \"Score\"])\n",
    "print(result_df)"
   ]
  },
  {
   "cell_type": "code",
   "execution_count": 8,
   "metadata": {},
   "outputs": [
    {
     "name": "stdout",
     "output_type": "stream",
     "text": [
      "                   Component2  Mask Word     Score\n",
      "0               acacia lignin  decreased  0.507611\n",
      "1                        acai  decreased  0.514905\n",
      "2              acca sellowian  decreased  0.514854\n",
      "3                     acerola  decreased  0.502209\n",
      "4                 acetic acid  decreased  0.506559\n",
      "..                        ...        ...       ...\n",
      "151                   xanthan  decreased  0.489531\n",
      "152                      yams  decreased  0.514394\n",
      "153        zataria multiflora  decreased  0.508000\n",
      "154  ziziphora clinopodioides  decreased  0.497964\n",
      "155                  zucchini  decreased  0.508991\n",
      "\n",
      "[156 rows x 3 columns]\n"
     ]
    }
   ],
   "source": [
    "from transformers import pipeline, set_seed\n",
    "pipe = pipeline('fill-mask', model=model_mask_mat, tokenizer=tokenizer_mat, top_k=1, device=\"cuda:0\", batch_size=100 )\n",
    "\n",
    "prompt_template = \"Membranes were prepared using alginate, a polysaccharide derived from seaweed, combined with glycerol as a plasticizer. When {Component2} was incorporated as a secondary additive, the water vapor permeability of the membrane [MASK], potentially affecting its suitability for packaging applications.\"\n",
    "\n",
    "polysaccharide_component_list = filtered_polysaccharides_df['Component'].tolist()\n",
    "organic_component_list = filtered_organic_compounds_df['Component'].tolist()\n",
    "plastic_component_list = filtered_plasticizer_df['Component'].tolist()\n",
    "# component_list = combined_df['Component'].tolist()\n",
    "\n",
    "high_probability_mask_words = []\n",
    "\n",
    "batch_size = 100\n",
    "component_combinations = [(c2,) for c2 in organic_component_list] \n",
    "num_batches = len(component_combinations) // batch_size\n",
    "\n",
    "set_seed(42)\n",
    "for i in range(num_batches + 1):\n",
    "    batch = component_combinations[i * batch_size: (i + 1) * batch_size]\n",
    "    batch_prompts = [prompt_template.format(Component2=c2) for (c2,) in batch]\n",
    "    results = pipe(batch_prompts)\n",
    "\n",
    "    for (component2,), output in zip(batch, results):\n",
    "        for element in output:\n",
    "            if element['score'] > 0.3:\n",
    "                high_probability_mask_words.append((component2, element['token_str'], element['score']))\n",
    "\n",
    "result_df = pd.DataFrame(high_probability_mask_words, columns=[\"Component2\", \"Mask Word\", \"Score\"])\n",
    "print(result_df)"
   ]
  }
 ],
 "metadata": {
  "kernelspec": {
   "display_name": "Python 3",
   "language": "python",
   "name": "python3"
  },
  "language_info": {
   "codemirror_mode": {
    "name": "ipython",
    "version": 3
   },
   "file_extension": ".py",
   "mimetype": "text/x-python",
   "name": "python",
   "nbconvert_exporter": "python",
   "pygments_lexer": "ipython3",
   "version": "3.12.1"
  }
 },
 "nbformat": 4,
 "nbformat_minor": 2
}
